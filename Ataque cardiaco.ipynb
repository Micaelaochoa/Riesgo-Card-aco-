{
 "cells": [
  {
   "cell_type": "code",
   "execution_count": 2,
   "id": "d98e42fa-8938-442a-9673-08d753eefca2",
   "metadata": {},
   "outputs": [],
   "source": [
    "import pandas as pd \n",
    "import numpy as np \n",
    "import seaborn as snb\n",
    "import matplotlib.pyplot as plt\n"
   ]
  },
  {
   "cell_type": "code",
   "execution_count": 3,
   "id": "66deebd3-3c66-42e5-8c5c-f5eb46c5266c",
   "metadata": {},
   "outputs": [
    {
     "data": {
      "text/html": [
       "<div>\n",
       "<style scoped>\n",
       "    .dataframe tbody tr th:only-of-type {\n",
       "        vertical-align: middle;\n",
       "    }\n",
       "\n",
       "    .dataframe tbody tr th {\n",
       "        vertical-align: top;\n",
       "    }\n",
       "\n",
       "    .dataframe thead th {\n",
       "        text-align: right;\n",
       "    }\n",
       "</style>\n",
       "<table border=\"1\" class=\"dataframe\">\n",
       "  <thead>\n",
       "    <tr style=\"text-align: right;\">\n",
       "      <th></th>\n",
       "      <th>Age</th>\n",
       "      <th>Genero</th>\n",
       "      <th>Fumador</th>\n",
       "      <th>Consume Alcohol</th>\n",
       "      <th>Nivel de actividad Fisica</th>\n",
       "      <th>IMC</th>\n",
       "      <th>Diabetes</th>\n",
       "      <th>HIpertension</th>\n",
       "      <th>Nivel de colesterol</th>\n",
       "      <th>Resting_BP</th>\n",
       "      <th>Heart_Rate</th>\n",
       "      <th>Historia Familiar</th>\n",
       "      <th>Nivel de stres</th>\n",
       "      <th>Chest_Pain_Type</th>\n",
       "      <th>Thalassemia</th>\n",
       "      <th>Fasting_Blood_Sugar</th>\n",
       "      <th>ECG_Results</th>\n",
       "      <th>Exercise_Induced_Angina</th>\n",
       "      <th>Max_Heart_Rate_Achieved</th>\n",
       "      <th>Heart_Attack_Risk</th>\n",
       "    </tr>\n",
       "  </thead>\n",
       "  <tbody>\n",
       "    <tr>\n",
       "      <th>0</th>\n",
       "      <td>69</td>\n",
       "      <td>Female</td>\n",
       "      <td>1</td>\n",
       "      <td>0</td>\n",
       "      <td>Moderate</td>\n",
       "      <td>34.61</td>\n",
       "      <td>1</td>\n",
       "      <td>0</td>\n",
       "      <td>152.1</td>\n",
       "      <td>171</td>\n",
       "      <td>85</td>\n",
       "      <td>0</td>\n",
       "      <td>Moderate</td>\n",
       "      <td>Non-anginal</td>\n",
       "      <td>Reversible defect</td>\n",
       "      <td>0</td>\n",
       "      <td>Normal</td>\n",
       "      <td>0</td>\n",
       "      <td>114</td>\n",
       "      <td>Low</td>\n",
       "    </tr>\n",
       "    <tr>\n",
       "      <th>1</th>\n",
       "      <td>32</td>\n",
       "      <td>Male</td>\n",
       "      <td>0</td>\n",
       "      <td>0</td>\n",
       "      <td>Moderate</td>\n",
       "      <td>22.75</td>\n",
       "      <td>0</td>\n",
       "      <td>0</td>\n",
       "      <td>166.8</td>\n",
       "      <td>126</td>\n",
       "      <td>103</td>\n",
       "      <td>0</td>\n",
       "      <td>Low</td>\n",
       "      <td>Asymptomatic</td>\n",
       "      <td>Normal</td>\n",
       "      <td>0</td>\n",
       "      <td>ST-T abnormality</td>\n",
       "      <td>0</td>\n",
       "      <td>173</td>\n",
       "      <td>Moderate</td>\n",
       "    </tr>\n",
       "    <tr>\n",
       "      <th>2</th>\n",
       "      <td>89</td>\n",
       "      <td>Male</td>\n",
       "      <td>0</td>\n",
       "      <td>1</td>\n",
       "      <td>Moderate</td>\n",
       "      <td>35.32</td>\n",
       "      <td>0</td>\n",
       "      <td>0</td>\n",
       "      <td>272.3</td>\n",
       "      <td>123</td>\n",
       "      <td>127</td>\n",
       "      <td>0</td>\n",
       "      <td>Low</td>\n",
       "      <td>Typical</td>\n",
       "      <td>Reversible defect</td>\n",
       "      <td>0</td>\n",
       "      <td>ST-T abnormality</td>\n",
       "      <td>0</td>\n",
       "      <td>109</td>\n",
       "      <td>Low</td>\n",
       "    </tr>\n",
       "    <tr>\n",
       "      <th>3</th>\n",
       "      <td>78</td>\n",
       "      <td>Male</td>\n",
       "      <td>0</td>\n",
       "      <td>1</td>\n",
       "      <td>Moderate</td>\n",
       "      <td>18.23</td>\n",
       "      <td>1</td>\n",
       "      <td>0</td>\n",
       "      <td>237.7</td>\n",
       "      <td>144</td>\n",
       "      <td>125</td>\n",
       "      <td>0</td>\n",
       "      <td>Low</td>\n",
       "      <td>Typical</td>\n",
       "      <td>Fixed defect</td>\n",
       "      <td>1</td>\n",
       "      <td>Left Ventricular Hypertrophy</td>\n",
       "      <td>0</td>\n",
       "      <td>129</td>\n",
       "      <td>Low</td>\n",
       "    </tr>\n",
       "    <tr>\n",
       "      <th>4</th>\n",
       "      <td>38</td>\n",
       "      <td>Female</td>\n",
       "      <td>1</td>\n",
       "      <td>0</td>\n",
       "      <td>Moderate</td>\n",
       "      <td>19.82</td>\n",
       "      <td>0</td>\n",
       "      <td>0</td>\n",
       "      <td>207.7</td>\n",
       "      <td>123</td>\n",
       "      <td>107</td>\n",
       "      <td>0</td>\n",
       "      <td>High</td>\n",
       "      <td>Asymptomatic</td>\n",
       "      <td>Reversible defect</td>\n",
       "      <td>0</td>\n",
       "      <td>ST-T abnormality</td>\n",
       "      <td>0</td>\n",
       "      <td>124</td>\n",
       "      <td>Moderate</td>\n",
       "    </tr>\n",
       "    <tr>\n",
       "      <th>...</th>\n",
       "      <td>...</td>\n",
       "      <td>...</td>\n",
       "      <td>...</td>\n",
       "      <td>...</td>\n",
       "      <td>...</td>\n",
       "      <td>...</td>\n",
       "      <td>...</td>\n",
       "      <td>...</td>\n",
       "      <td>...</td>\n",
       "      <td>...</td>\n",
       "      <td>...</td>\n",
       "      <td>...</td>\n",
       "      <td>...</td>\n",
       "      <td>...</td>\n",
       "      <td>...</td>\n",
       "      <td>...</td>\n",
       "      <td>...</td>\n",
       "      <td>...</td>\n",
       "      <td>...</td>\n",
       "      <td>...</td>\n",
       "    </tr>\n",
       "    <tr>\n",
       "      <th>49995</th>\n",
       "      <td>21</td>\n",
       "      <td>Male</td>\n",
       "      <td>0</td>\n",
       "      <td>0</td>\n",
       "      <td>Low</td>\n",
       "      <td>39.93</td>\n",
       "      <td>0</td>\n",
       "      <td>0</td>\n",
       "      <td>269.9</td>\n",
       "      <td>171</td>\n",
       "      <td>113</td>\n",
       "      <td>0</td>\n",
       "      <td>High</td>\n",
       "      <td>Typical</td>\n",
       "      <td>Reversible defect</td>\n",
       "      <td>0</td>\n",
       "      <td>ST-T abnormality</td>\n",
       "      <td>0</td>\n",
       "      <td>122</td>\n",
       "      <td>High</td>\n",
       "    </tr>\n",
       "    <tr>\n",
       "      <th>49996</th>\n",
       "      <td>35</td>\n",
       "      <td>Female</td>\n",
       "      <td>0</td>\n",
       "      <td>0</td>\n",
       "      <td>Low</td>\n",
       "      <td>18.10</td>\n",
       "      <td>0</td>\n",
       "      <td>0</td>\n",
       "      <td>235.8</td>\n",
       "      <td>146</td>\n",
       "      <td>71</td>\n",
       "      <td>0</td>\n",
       "      <td>Moderate</td>\n",
       "      <td>Non-anginal</td>\n",
       "      <td>Fixed defect</td>\n",
       "      <td>1</td>\n",
       "      <td>ST-T abnormality</td>\n",
       "      <td>0</td>\n",
       "      <td>121</td>\n",
       "      <td>Moderate</td>\n",
       "    </tr>\n",
       "    <tr>\n",
       "      <th>49997</th>\n",
       "      <td>46</td>\n",
       "      <td>Male</td>\n",
       "      <td>0</td>\n",
       "      <td>1</td>\n",
       "      <td>High</td>\n",
       "      <td>21.42</td>\n",
       "      <td>0</td>\n",
       "      <td>0</td>\n",
       "      <td>172.8</td>\n",
       "      <td>146</td>\n",
       "      <td>85</td>\n",
       "      <td>1</td>\n",
       "      <td>Low</td>\n",
       "      <td>Typical</td>\n",
       "      <td>Fixed defect</td>\n",
       "      <td>0</td>\n",
       "      <td>Left Ventricular Hypertrophy</td>\n",
       "      <td>0</td>\n",
       "      <td>125</td>\n",
       "      <td>Low</td>\n",
       "    </tr>\n",
       "    <tr>\n",
       "      <th>49998</th>\n",
       "      <td>56</td>\n",
       "      <td>Male</td>\n",
       "      <td>0</td>\n",
       "      <td>1</td>\n",
       "      <td>Low</td>\n",
       "      <td>29.93</td>\n",
       "      <td>0</td>\n",
       "      <td>0</td>\n",
       "      <td>244.1</td>\n",
       "      <td>151</td>\n",
       "      <td>110</td>\n",
       "      <td>0</td>\n",
       "      <td>Low</td>\n",
       "      <td>Asymptomatic</td>\n",
       "      <td>Reversible defect</td>\n",
       "      <td>0</td>\n",
       "      <td>Normal</td>\n",
       "      <td>0</td>\n",
       "      <td>149</td>\n",
       "      <td>Moderate</td>\n",
       "    </tr>\n",
       "    <tr>\n",
       "      <th>49999</th>\n",
       "      <td>72</td>\n",
       "      <td>Male</td>\n",
       "      <td>0</td>\n",
       "      <td>0</td>\n",
       "      <td>High</td>\n",
       "      <td>30.85</td>\n",
       "      <td>0</td>\n",
       "      <td>0</td>\n",
       "      <td>191.8</td>\n",
       "      <td>142</td>\n",
       "      <td>70</td>\n",
       "      <td>0</td>\n",
       "      <td>High</td>\n",
       "      <td>Asymptomatic</td>\n",
       "      <td>Normal</td>\n",
       "      <td>0</td>\n",
       "      <td>ST-T abnormality</td>\n",
       "      <td>0</td>\n",
       "      <td>144</td>\n",
       "      <td>Moderate</td>\n",
       "    </tr>\n",
       "  </tbody>\n",
       "</table>\n",
       "<p>50000 rows × 20 columns</p>\n",
       "</div>"
      ],
      "text/plain": [
       "       Age  Genero  Fumador  Consume Alcohol Nivel de actividad Fisica    IMC  \\\n",
       "0       69  Female        1                0                  Moderate  34.61   \n",
       "1       32    Male        0                0                  Moderate  22.75   \n",
       "2       89    Male        0                1                  Moderate  35.32   \n",
       "3       78    Male        0                1                  Moderate  18.23   \n",
       "4       38  Female        1                0                  Moderate  19.82   \n",
       "...    ...     ...      ...              ...                       ...    ...   \n",
       "49995   21    Male        0                0                       Low  39.93   \n",
       "49996   35  Female        0                0                       Low  18.10   \n",
       "49997   46    Male        0                1                      High  21.42   \n",
       "49998   56    Male        0                1                       Low  29.93   \n",
       "49999   72    Male        0                0                      High  30.85   \n",
       "\n",
       "       Diabetes  HIpertension  Nivel de colesterol  Resting_BP  Heart_Rate  \\\n",
       "0             1             0                152.1         171          85   \n",
       "1             0             0                166.8         126         103   \n",
       "2             0             0                272.3         123         127   \n",
       "3             1             0                237.7         144         125   \n",
       "4             0             0                207.7         123         107   \n",
       "...         ...           ...                  ...         ...         ...   \n",
       "49995         0             0                269.9         171         113   \n",
       "49996         0             0                235.8         146          71   \n",
       "49997         0             0                172.8         146          85   \n",
       "49998         0             0                244.1         151         110   \n",
       "49999         0             0                191.8         142          70   \n",
       "\n",
       "       Historia Familiar Nivel de stres Chest_Pain_Type        Thalassemia  \\\n",
       "0                      0       Moderate     Non-anginal  Reversible defect   \n",
       "1                      0            Low    Asymptomatic             Normal   \n",
       "2                      0            Low         Typical  Reversible defect   \n",
       "3                      0            Low         Typical       Fixed defect   \n",
       "4                      0           High    Asymptomatic  Reversible defect   \n",
       "...                  ...            ...             ...                ...   \n",
       "49995                  0           High         Typical  Reversible defect   \n",
       "49996                  0       Moderate     Non-anginal       Fixed defect   \n",
       "49997                  1            Low         Typical       Fixed defect   \n",
       "49998                  0            Low    Asymptomatic  Reversible defect   \n",
       "49999                  0           High    Asymptomatic             Normal   \n",
       "\n",
       "       Fasting_Blood_Sugar                   ECG_Results  \\\n",
       "0                        0                        Normal   \n",
       "1                        0              ST-T abnormality   \n",
       "2                        0              ST-T abnormality   \n",
       "3                        1  Left Ventricular Hypertrophy   \n",
       "4                        0              ST-T abnormality   \n",
       "...                    ...                           ...   \n",
       "49995                    0              ST-T abnormality   \n",
       "49996                    1              ST-T abnormality   \n",
       "49997                    0  Left Ventricular Hypertrophy   \n",
       "49998                    0                        Normal   \n",
       "49999                    0              ST-T abnormality   \n",
       "\n",
       "       Exercise_Induced_Angina  Max_Heart_Rate_Achieved Heart_Attack_Risk  \n",
       "0                            0                      114               Low  \n",
       "1                            0                      173          Moderate  \n",
       "2                            0                      109               Low  \n",
       "3                            0                      129               Low  \n",
       "4                            0                      124          Moderate  \n",
       "...                        ...                      ...               ...  \n",
       "49995                        0                      122              High  \n",
       "49996                        0                      121          Moderate  \n",
       "49997                        0                      125               Low  \n",
       "49998                        0                      149          Moderate  \n",
       "49999                        0                      144          Moderate  \n",
       "\n",
       "[50000 rows x 20 columns]"
      ]
     },
     "execution_count": 3,
     "metadata": {},
     "output_type": "execute_result"
    }
   ],
   "source": [
    "df1=pd.read_excel('C:\\\\Users\\\\Bar Gloria\\\\Downloads\\\\Ataque cardiaco.xlsx')\n",
    "df1"
   ]
  },
  {
   "cell_type": "code",
   "execution_count": 5,
   "id": "213a6e2a-40a0-4dfb-a0cf-e640385b6958",
   "metadata": {},
   "outputs": [
    {
     "data": {
      "text/plain": [
       "Age                          0\n",
       "Genero                       0\n",
       "Fumador                      0\n",
       "Consume Alcohol              0\n",
       "Nivel de actividad Fisica    0\n",
       "IMC                          0\n",
       "Diabetes                     0\n",
       "HIpertension                 0\n",
       "Nivel de colesterol          0\n",
       "Resting_BP                   0\n",
       "Heart_Rate                   0\n",
       "Historia Familiar            0\n",
       "Nivel de stres               0\n",
       "Chest_Pain_Type              0\n",
       "Thalassemia                  0\n",
       "Fasting_Blood_Sugar          0\n",
       "ECG_Results                  0\n",
       "Exercise_Induced_Angina      0\n",
       "Max_Heart_Rate_Achieved      0\n",
       "Heart_Attack_Risk            0\n",
       "dtype: int64"
      ]
     },
     "execution_count": 5,
     "metadata": {},
     "output_type": "execute_result"
    }
   ],
   "source": [
    "##lIMPIEZA DE LOS DATOS : verificar si hay nulos, tambien se puede usar la funcion isna()\n",
    "df1.isnull().sum()"
   ]
  },
  {
   "cell_type": "code",
   "execution_count": 23,
   "id": "df015143-5ffd-4b6a-bc14-8c55883eaeb9",
   "metadata": {},
   "outputs": [
    {
     "data": {
      "text/plain": [
       "0        False\n",
       "1        False\n",
       "2        False\n",
       "3        False\n",
       "4        False\n",
       "         ...  \n",
       "49995    False\n",
       "49996    False\n",
       "49997    False\n",
       "49998    False\n",
       "49999    False\n",
       "Length: 50000, dtype: bool"
      ]
     },
     "execution_count": 23,
     "metadata": {},
     "output_type": "execute_result"
    }
   ],
   "source": [
    "df1.duplicated()"
   ]
  },
  {
   "cell_type": "code",
   "execution_count": 24,
   "id": "4c786a4a-5760-4b5c-8b99-a859512b3f9a",
   "metadata": {},
   "outputs": [
    {
     "data": {
      "text/plain": [
       "dtype('float64')"
      ]
     },
     "execution_count": 24,
     "metadata": {},
     "output_type": "execute_result"
    }
   ],
   "source": [
    "## tranformacion de dato mediante asignacion o funcion\n",
    "referencia_IMC= {\n",
    "    '18': 'Bajo Peso',\n",
    "    '24': 'Normal',\n",
    "    '29': 'Sobrepeso',\n",
    "    '30': 'Obesidad',\n",
    "}\n",
    "\n",
    "df1['IMC'].dtype"
   ]
  },
  {
   "cell_type": "code",
   "execution_count": 8,
   "id": "753c3645-f353-4ed7-a721-d332c4248024",
   "metadata": {},
   "outputs": [
    {
     "data": {
      "text/plain": [
       "0        34.61\n",
       "1        22.75\n",
       "2        35.32\n",
       "3        18.23\n",
       "4        19.82\n",
       "         ...  \n",
       "49995    39.93\n",
       "49996    18.10\n",
       "49997    21.42\n",
       "49998    29.93\n",
       "49999    30.85\n",
       "Name: IMC, Length: 50000, dtype: float64"
      ]
     },
     "execution_count": 8,
     "metadata": {},
     "output_type": "execute_result"
    }
   ],
   "source": [
    "## la primer función se uso para redondear los valores de la columna y la segunda funcion se uso para pasar a entero los valores de la columna IMC. \n",
    "df1['IMC'].round()\n",
    "df1['IMC']=df1['IMC'].astype(float)\n",
    "df1['IMC']"
   ]
  },
  {
   "cell_type": "code",
   "execution_count": 9,
   "id": "034366c2-4605-459f-962f-e310695c7842",
   "metadata": {},
   "outputs": [],
   "source": [
    "##Esta funcion nos permite clasificar los valores del imc. \n",
    "\n",
    "df1['Diagnóstico']=pd.cut(df1['IMC'],bins=[0,18.0,25.0,30.0,float('inf')],labels=['Bajo Peso','Normal','Sobrepeso','Obesidad'])"
   ]
  },
  {
   "cell_type": "code",
   "execution_count": 10,
   "id": "ce61d983-8b36-4491-9204-e72f2ab61f32",
   "metadata": {},
   "outputs": [
    {
     "data": {
      "text/plain": [
       "0         Obesidad\n",
       "1           Normal\n",
       "2         Obesidad\n",
       "3           Normal\n",
       "4           Normal\n",
       "           ...    \n",
       "49995     Obesidad\n",
       "49996       Normal\n",
       "49997       Normal\n",
       "49998    Sobrepeso\n",
       "49999     Obesidad\n",
       "Name: Diagnóstico, Length: 50000, dtype: category\n",
       "Categories (4, object): ['Bajo Peso' < 'Normal' < 'Sobrepeso' < 'Obesidad']"
      ]
     },
     "execution_count": 10,
     "metadata": {},
     "output_type": "execute_result"
    }
   ],
   "source": [
    "df1['Diagnóstico']"
   ]
  },
  {
   "cell_type": "code",
   "execution_count": 28,
   "id": "4ebe983c-3182-4695-9211-4bd6a17db157",
   "metadata": {},
   "outputs": [
    {
     "data": {
      "text/plain": [
       "np.float64(53.3987)"
      ]
     },
     "execution_count": 28,
     "metadata": {},
     "output_type": "execute_result"
    }
   ],
   "source": [
    "edad_promedio=df1['Age'].mean()\n",
    "edad_promedio"
   ]
  },
  {
   "cell_type": "code",
   "execution_count": 29,
   "id": "c511b73e-bc97-4231-80c0-ba2fbadef963",
   "metadata": {},
   "outputs": [
    {
     "data": {
      "text/html": [
       "<div>\n",
       "<style scoped>\n",
       "    .dataframe tbody tr th:only-of-type {\n",
       "        vertical-align: middle;\n",
       "    }\n",
       "\n",
       "    .dataframe tbody tr th {\n",
       "        vertical-align: top;\n",
       "    }\n",
       "\n",
       "    .dataframe thead th {\n",
       "        text-align: right;\n",
       "    }\n",
       "</style>\n",
       "<table border=\"1\" class=\"dataframe\">\n",
       "  <thead>\n",
       "    <tr style=\"text-align: right;\">\n",
       "      <th></th>\n",
       "      <th>Age</th>\n",
       "      <th>Fumador</th>\n",
       "      <th>Consume Alcohol</th>\n",
       "      <th>IMC</th>\n",
       "      <th>Diabetes</th>\n",
       "      <th>HIpertension</th>\n",
       "      <th>Nivel de colesterol</th>\n",
       "      <th>Resting_BP</th>\n",
       "      <th>Heart_Rate</th>\n",
       "      <th>Historia Familiar</th>\n",
       "      <th>Fasting_Blood_Sugar</th>\n",
       "      <th>Exercise_Induced_Angina</th>\n",
       "      <th>Max_Heart_Rate_Achieved</th>\n",
       "    </tr>\n",
       "  </thead>\n",
       "  <tbody>\n",
       "    <tr>\n",
       "      <th>count</th>\n",
       "      <td>50000.000000</td>\n",
       "      <td>50000.000000</td>\n",
       "      <td>50000.000000</td>\n",
       "      <td>50000.000000</td>\n",
       "      <td>50000.000000</td>\n",
       "      <td>50000.00000</td>\n",
       "      <td>50000.000000</td>\n",
       "      <td>50000.000000</td>\n",
       "      <td>50000.000000</td>\n",
       "      <td>50000.00000</td>\n",
       "      <td>50000.000000</td>\n",
       "      <td>50000.000000</td>\n",
       "      <td>50000.000000</td>\n",
       "    </tr>\n",
       "    <tr>\n",
       "      <th>mean</th>\n",
       "      <td>53.398700</td>\n",
       "      <td>0.298420</td>\n",
       "      <td>0.401980</td>\n",
       "      <td>27.519357</td>\n",
       "      <td>0.198840</td>\n",
       "      <td>0.29738</td>\n",
       "      <td>225.036444</td>\n",
       "      <td>134.434100</td>\n",
       "      <td>94.530480</td>\n",
       "      <td>0.30034</td>\n",
       "      <td>0.149360</td>\n",
       "      <td>0.201640</td>\n",
       "      <td>149.305340</td>\n",
       "    </tr>\n",
       "    <tr>\n",
       "      <th>std</th>\n",
       "      <td>20.799006</td>\n",
       "      <td>0.457569</td>\n",
       "      <td>0.490303</td>\n",
       "      <td>7.225176</td>\n",
       "      <td>0.399131</td>\n",
       "      <td>0.45711</td>\n",
       "      <td>43.317373</td>\n",
       "      <td>25.907961</td>\n",
       "      <td>20.187124</td>\n",
       "      <td>0.45841</td>\n",
       "      <td>0.356447</td>\n",
       "      <td>0.401229</td>\n",
       "      <td>28.823699</td>\n",
       "    </tr>\n",
       "    <tr>\n",
       "      <th>min</th>\n",
       "      <td>18.000000</td>\n",
       "      <td>0.000000</td>\n",
       "      <td>0.000000</td>\n",
       "      <td>15.000000</td>\n",
       "      <td>0.000000</td>\n",
       "      <td>0.00000</td>\n",
       "      <td>150.000000</td>\n",
       "      <td>90.000000</td>\n",
       "      <td>60.000000</td>\n",
       "      <td>0.00000</td>\n",
       "      <td>0.000000</td>\n",
       "      <td>0.000000</td>\n",
       "      <td>100.000000</td>\n",
       "    </tr>\n",
       "    <tr>\n",
       "      <th>25%</th>\n",
       "      <td>35.000000</td>\n",
       "      <td>0.000000</td>\n",
       "      <td>0.000000</td>\n",
       "      <td>21.270000</td>\n",
       "      <td>0.000000</td>\n",
       "      <td>0.00000</td>\n",
       "      <td>187.300000</td>\n",
       "      <td>112.000000</td>\n",
       "      <td>77.000000</td>\n",
       "      <td>0.00000</td>\n",
       "      <td>0.000000</td>\n",
       "      <td>0.000000</td>\n",
       "      <td>124.000000</td>\n",
       "    </tr>\n",
       "    <tr>\n",
       "      <th>50%</th>\n",
       "      <td>53.000000</td>\n",
       "      <td>0.000000</td>\n",
       "      <td>0.000000</td>\n",
       "      <td>27.540000</td>\n",
       "      <td>0.000000</td>\n",
       "      <td>0.00000</td>\n",
       "      <td>225.100000</td>\n",
       "      <td>134.000000</td>\n",
       "      <td>94.000000</td>\n",
       "      <td>0.00000</td>\n",
       "      <td>0.000000</td>\n",
       "      <td>0.000000</td>\n",
       "      <td>149.000000</td>\n",
       "    </tr>\n",
       "    <tr>\n",
       "      <th>75%</th>\n",
       "      <td>71.000000</td>\n",
       "      <td>1.000000</td>\n",
       "      <td>1.000000</td>\n",
       "      <td>33.770000</td>\n",
       "      <td>0.000000</td>\n",
       "      <td>1.00000</td>\n",
       "      <td>262.600000</td>\n",
       "      <td>157.000000</td>\n",
       "      <td>112.000000</td>\n",
       "      <td>1.00000</td>\n",
       "      <td>0.000000</td>\n",
       "      <td>0.000000</td>\n",
       "      <td>174.000000</td>\n",
       "    </tr>\n",
       "    <tr>\n",
       "      <th>max</th>\n",
       "      <td>89.000000</td>\n",
       "      <td>1.000000</td>\n",
       "      <td>1.000000</td>\n",
       "      <td>40.000000</td>\n",
       "      <td>1.000000</td>\n",
       "      <td>1.00000</td>\n",
       "      <td>300.000000</td>\n",
       "      <td>179.000000</td>\n",
       "      <td>129.000000</td>\n",
       "      <td>1.00000</td>\n",
       "      <td>1.000000</td>\n",
       "      <td>1.000000</td>\n",
       "      <td>199.000000</td>\n",
       "    </tr>\n",
       "  </tbody>\n",
       "</table>\n",
       "</div>"
      ],
      "text/plain": [
       "                Age       Fumador  Consume Alcohol           IMC  \\\n",
       "count  50000.000000  50000.000000     50000.000000  50000.000000   \n",
       "mean      53.398700      0.298420         0.401980     27.519357   \n",
       "std       20.799006      0.457569         0.490303      7.225176   \n",
       "min       18.000000      0.000000         0.000000     15.000000   \n",
       "25%       35.000000      0.000000         0.000000     21.270000   \n",
       "50%       53.000000      0.000000         0.000000     27.540000   \n",
       "75%       71.000000      1.000000         1.000000     33.770000   \n",
       "max       89.000000      1.000000         1.000000     40.000000   \n",
       "\n",
       "           Diabetes  HIpertension  Nivel de colesterol    Resting_BP  \\\n",
       "count  50000.000000   50000.00000         50000.000000  50000.000000   \n",
       "mean       0.198840       0.29738           225.036444    134.434100   \n",
       "std        0.399131       0.45711            43.317373     25.907961   \n",
       "min        0.000000       0.00000           150.000000     90.000000   \n",
       "25%        0.000000       0.00000           187.300000    112.000000   \n",
       "50%        0.000000       0.00000           225.100000    134.000000   \n",
       "75%        0.000000       1.00000           262.600000    157.000000   \n",
       "max        1.000000       1.00000           300.000000    179.000000   \n",
       "\n",
       "         Heart_Rate  Historia Familiar  Fasting_Blood_Sugar  \\\n",
       "count  50000.000000        50000.00000         50000.000000   \n",
       "mean      94.530480            0.30034             0.149360   \n",
       "std       20.187124            0.45841             0.356447   \n",
       "min       60.000000            0.00000             0.000000   \n",
       "25%       77.000000            0.00000             0.000000   \n",
       "50%       94.000000            0.00000             0.000000   \n",
       "75%      112.000000            1.00000             0.000000   \n",
       "max      129.000000            1.00000             1.000000   \n",
       "\n",
       "       Exercise_Induced_Angina  Max_Heart_Rate_Achieved  \n",
       "count             50000.000000             50000.000000  \n",
       "mean                  0.201640               149.305340  \n",
       "std                   0.401229                28.823699  \n",
       "min                   0.000000               100.000000  \n",
       "25%                   0.000000               124.000000  \n",
       "50%                   0.000000               149.000000  \n",
       "75%                   0.000000               174.000000  \n",
       "max                   1.000000               199.000000  "
      ]
     },
     "execution_count": 29,
     "metadata": {},
     "output_type": "execute_result"
    }
   ],
   "source": [
    "##Estadistica descriptiva \n",
    "df1.describe()"
   ]
  },
  {
   "cell_type": "code",
   "execution_count": null,
   "id": "a3471957-3146-4e0c-9438-e6ec42fc07ec",
   "metadata": {},
   "outputs": [],
   "source": [
    "##Que porcentaje de la poblacion tiene riesgo alto de contraer un infarto?"
   ]
  },
  {
   "cell_type": "code",
   "execution_count": 4,
   "id": "1e1e19b9-1232-4039-a186-46d22676e6a1",
   "metadata": {},
   "outputs": [
    {
     "data": {
      "text/html": [
       "<div>\n",
       "<style scoped>\n",
       "    .dataframe tbody tr th:only-of-type {\n",
       "        vertical-align: middle;\n",
       "    }\n",
       "\n",
       "    .dataframe tbody tr th {\n",
       "        vertical-align: top;\n",
       "    }\n",
       "\n",
       "    .dataframe thead th {\n",
       "        text-align: right;\n",
       "    }\n",
       "</style>\n",
       "<table border=\"1\" class=\"dataframe\">\n",
       "  <thead>\n",
       "    <tr style=\"text-align: right;\">\n",
       "      <th></th>\n",
       "      <th>Riesgo</th>\n",
       "      <th>Frecuencia_absoluta</th>\n",
       "      <th>Frecuencia_relativa</th>\n",
       "      <th>Porcentaje</th>\n",
       "    </tr>\n",
       "  </thead>\n",
       "  <tbody>\n",
       "    <tr>\n",
       "      <th>0</th>\n",
       "      <td>Low</td>\n",
       "      <td>25024</td>\n",
       "      <td>0.50048</td>\n",
       "      <td>50.05</td>\n",
       "    </tr>\n",
       "    <tr>\n",
       "      <th>1</th>\n",
       "      <td>Moderate</td>\n",
       "      <td>14904</td>\n",
       "      <td>0.29808</td>\n",
       "      <td>29.81</td>\n",
       "    </tr>\n",
       "    <tr>\n",
       "      <th>2</th>\n",
       "      <td>High</td>\n",
       "      <td>10072</td>\n",
       "      <td>0.20144</td>\n",
       "      <td>20.14</td>\n",
       "    </tr>\n",
       "  </tbody>\n",
       "</table>\n",
       "</div>"
      ],
      "text/plain": [
       "     Riesgo  Frecuencia_absoluta  Frecuencia_relativa  Porcentaje\n",
       "0       Low                25024              0.50048       50.05\n",
       "1  Moderate                14904              0.29808       29.81\n",
       "2      High                10072              0.20144       20.14"
      ]
     },
     "execution_count": 4,
     "metadata": {},
     "output_type": "execute_result"
    }
   ],
   "source": [
    "frecuencia=df1['Heart_Attack_Risk'].value_counts().reset_index()\n",
    "frecuencia.columns = ['Riesgo', 'Frecuencia_absoluta']\n",
    "total=frecuencia['Frecuencia_absoluta'].sum()\n",
    "frecuencia['Frecuencia_relativa']=frecuencia['Frecuencia_absoluta']/total\n",
    "frecuencia['Porcentaje'] = (frecuencia['Frecuencia_relativa'] * 100).round(2)\n",
    "frecuencia\n"
   ]
  },
  {
   "cell_type": "code",
   "execution_count": 28,
   "id": "dd04a31d-61ae-48cd-9a13-e9814ce63d08",
   "metadata": {},
   "outputs": [
    {
     "data": {
      "image/png": "[encoded data removed]",
      "text/plain": [
       "<Figure size 640x480 with 1 Axes>"
      ]
     },
     "metadata": {},
     "output_type": "display_data"
    }
   ],
   "source": [
    "\n",
    "plt.bar(frecuencia['Riesgo'],frecuencia['Frecuencia_absoluta'])\n",
    "plt.xlabel('Nivel de riesgo')\n",
    "plt.ylabel('Frecuencia')\n",
    "plt.title('Distribucion de frecuencias por nivel de riesgo')\n",
    "plt.show()\n",
    "## En el gráfico, se puede observar el nivel de riesgo de la población en general en estudio es baja.  Solo un 20% de la población tiene riesgo alto. "
   ]
  },
  {
   "cell_type": "code",
   "execution_count": 31,
   "id": "acaa90f9-e054-44a3-8e77-9190e46b7d42",
   "metadata": {},
   "outputs": [
    {
     "data": {
      "text/html": [
       "<div>\n",
       "<style scoped>\n",
       "    .dataframe tbody tr th:only-of-type {\n",
       "        vertical-align: middle;\n",
       "    }\n",
       "\n",
       "    .dataframe tbody tr th {\n",
       "        vertical-align: top;\n",
       "    }\n",
       "\n",
       "    .dataframe thead th {\n",
       "        text-align: right;\n",
       "    }\n",
       "</style>\n",
       "<table border=\"1\" class=\"dataframe\">\n",
       "  <thead>\n",
       "    <tr style=\"text-align: right;\">\n",
       "      <th></th>\n",
       "      <th>Diagnóstico</th>\n",
       "      <th>Frecuencia_absoluta</th>\n",
       "      <th>Frecuencia_relativa</th>\n",
       "      <th>Porcentaje</th>\n",
       "    </tr>\n",
       "  </thead>\n",
       "  <tbody>\n",
       "    <tr>\n",
       "      <th>0</th>\n",
       "      <td>Obesidad</td>\n",
       "      <td>19949</td>\n",
       "      <td>0.39898</td>\n",
       "      <td>39.90</td>\n",
       "    </tr>\n",
       "    <tr>\n",
       "      <th>1</th>\n",
       "      <td>Normal</td>\n",
       "      <td>13930</td>\n",
       "      <td>0.27860</td>\n",
       "      <td>27.86</td>\n",
       "    </tr>\n",
       "    <tr>\n",
       "      <th>2</th>\n",
       "      <td>Sobrepeso</td>\n",
       "      <td>10089</td>\n",
       "      <td>0.20178</td>\n",
       "      <td>20.18</td>\n",
       "    </tr>\n",
       "    <tr>\n",
       "      <th>3</th>\n",
       "      <td>Bajo Peso</td>\n",
       "      <td>6032</td>\n",
       "      <td>0.12064</td>\n",
       "      <td>12.06</td>\n",
       "    </tr>\n",
       "  </tbody>\n",
       "</table>\n",
       "</div>"
      ],
      "text/plain": [
       "  Diagnóstico  Frecuencia_absoluta  Frecuencia_relativa  Porcentaje\n",
       "0    Obesidad                19949              0.39898       39.90\n",
       "1      Normal                13930              0.27860       27.86\n",
       "2   Sobrepeso                10089              0.20178       20.18\n",
       "3   Bajo Peso                 6032              0.12064       12.06"
      ]
     },
     "execution_count": 31,
     "metadata": {},
     "output_type": "execute_result"
    }
   ],
   "source": [
    "frecuenciaa=df1['Diagnóstico'].value_counts().reset_index()\n",
    "frecuenciaa.columns = ['Diagnóstico', 'Frecuencia_absoluta']\n",
    "total=frecuenciaa['Frecuencia_absoluta'].sum()\n",
    "frecuenciaa['Frecuencia_relativa']=frecuenciaa['Frecuencia_absoluta']/total\n",
    "frecuenciaa['Porcentaje'] = (frecuenciaa['Frecuencia_relativa'] * 100).round(2)\n",
    "frecuenciaa\n",
    "\n",
    "## A partir de la tabla de frecuencias se puede observar que el 39,9% de la población, en estudio, presenta Obesidad. "
   ]
  },
  {
   "cell_type": "code",
   "execution_count": 37,
   "id": "7bf8c699-1987-4f1c-8b54-491ccce30c63",
   "metadata": {},
   "outputs": [
    {
     "data": {
      "image/png": "[encoded data removed]",
      "text/plain": [
       "<Figure size 640x480 with 1 Axes>"
      ]
     },
     "metadata": {},
     "output_type": "display_data"
    }
   ],
   "source": [
    "plt.bar(frecuenciaa['Diagnóstico'],frecuenciaa['Frecuencia_absoluta'])\n",
    "plt.xlabel('Diagnostico')\n",
    "plt.ylabel('Cantidad de personas')\n",
    "\n",
    "plt.show()\n",
    "## El 39,9% esta representado por aproximadamente 20mil personas."
   ]
  },
  {
   "cell_type": "code",
   "execution_count": 38,
   "id": "83c76c93-599a-4675-9488-7b94f4d32f0d",
   "metadata": {},
   "outputs": [
    {
     "data": {
      "text/plain": [
       "<function matplotlib.pyplot.show(close=None, block=None)>"
      ]
     },
     "execution_count": 38,
     "metadata": {},
     "output_type": "execute_result"
    },
    {
     "data": {
      "image/png": "[encoded data removed]",
      "text/plain": [
       "<Figure size 640x480 with 1 Axes>"
      ]
     },
     "metadata": {},
     "output_type": "display_data"
    }
   ],
   "source": [
    "plt.boxplot(df1['IMC'])\n",
    "plt.show\n",
    "## En el boxplot se puede observar que la mediana se encuentra entre el IMC 25 Y 30, el cual indica sobrepeso."
   ]
  },
  {
   "cell_type": "code",
   "execution_count": null,
   "id": "b9df1de7-01a6-4f4d-8d2e-063211816fc9",
   "metadata": {},
   "outputs": [],
   "source": [
    "##Hipotesis: La presencia de diabetes es el principal factor causante de riesgo cardiaco en relacion a los demas. \n",
    "##coeficiente de relacion de chi cuadrados \n",
    "##HO: Las mujeres mayores a 50 años tienen la misma probabilidad que los hombres de igual edad, de contraer un ataque cardiaco\n",
    "##HI:Las mujeres mayores a 50 años tienen menos probabilidad que los hombres de igual edad, de contraer un ataque cardiaco "
   ]
  },
  {
   "cell_type": "code",
   "execution_count": 19,
   "id": "a85cf949-df89-4942-b04a-8bf7f2cdc3f8",
   "metadata": {},
   "outputs": [],
   "source": [
    "from scipy.stats import chi2_contingency \n",
    "from scipy.stats import chi2"
   ]
  },
  {
   "cell_type": "code",
   "execution_count": 9,
   "id": "04a9ca19-f95d-4dd1-99a5-df477ebcd8f4",
   "metadata": {},
   "outputs": [
    {
     "data": {
      "text/html": [
       "<div>\n",
       "<style scoped>\n",
       "    .dataframe tbody tr th:only-of-type {\n",
       "        vertical-align: middle;\n",
       "    }\n",
       "\n",
       "    .dataframe tbody tr th {\n",
       "        vertical-align: top;\n",
       "    }\n",
       "\n",
       "    .dataframe thead th {\n",
       "        text-align: right;\n",
       "    }\n",
       "</style>\n",
       "<table border=\"1\" class=\"dataframe\">\n",
       "  <thead>\n",
       "    <tr style=\"text-align: right;\">\n",
       "      <th>Heart_Attack_Risk</th>\n",
       "      <th>High</th>\n",
       "      <th>Low</th>\n",
       "      <th>Moderate</th>\n",
       "      <th>All</th>\n",
       "    </tr>\n",
       "    <tr>\n",
       "      <th>grupo</th>\n",
       "      <th></th>\n",
       "      <th></th>\n",
       "      <th></th>\n",
       "      <th></th>\n",
       "    </tr>\n",
       "  </thead>\n",
       "  <tbody>\n",
       "    <tr>\n",
       "      <th>Female ≥50</th>\n",
       "      <td>2814</td>\n",
       "      <td>6895</td>\n",
       "      <td>4151</td>\n",
       "      <td>13860</td>\n",
       "    </tr>\n",
       "    <tr>\n",
       "      <th>Male ≥50</th>\n",
       "      <td>2756</td>\n",
       "      <td>6907</td>\n",
       "      <td>4063</td>\n",
       "      <td>13726</td>\n",
       "    </tr>\n",
       "    <tr>\n",
       "      <th>All</th>\n",
       "      <td>5570</td>\n",
       "      <td>13802</td>\n",
       "      <td>8214</td>\n",
       "      <td>27586</td>\n",
       "    </tr>\n",
       "  </tbody>\n",
       "</table>\n",
       "</div>"
      ],
      "text/plain": [
       "Heart_Attack_Risk  High    Low  Moderate    All\n",
       "grupo                                          \n",
       "Female ≥50         2814   6895      4151  13860\n",
       "Male ≥50           2756   6907      4063  13726\n",
       "All                5570  13802      8214  27586"
      ]
     },
     "execution_count": 9,
     "metadata": {},
     "output_type": "execute_result"
    }
   ],
   "source": [
    "condiciones=[(df1['Genero']=='Female') & (df1['Age'] >=50), (df1['Genero']=='Male') & (df1['Age'] >=50)]\n",
    "\n",
    "valores = ['Female ≥50', 'Male ≥50']\n",
    "df1['grupo'] = np.select(condiciones, valores, default='Otros')\n",
    "\n",
    "\n",
    "df_filtrado = df1[df1['grupo'].isin(['Female ≥50', 'Male ≥50'])]\n",
    "\n",
    "tabla=pd.crosstab(df_filtrado['grupo'], df1['Heart_Attack_Risk'],margins=True)\n",
    "tabla\n"
   ]
  },
  {
   "cell_type": "code",
   "execution_count": 10,
   "id": "11e95697-845e-42a7-8fae-b43f0ef05339",
   "metadata": {},
   "outputs": [
    {
     "name": "stdout",
     "output_type": "stream",
     "text": [
      "Chi-cuadrado: 0.9062751220326737\n",
      "Grados de libertad: 6\n",
      "Valor p: 0.9889170145263517\n",
      "Tabla de frecuencias esperadas:\n",
      "[[ 2798.52823896  6934.52185891  4126.94990212 13860.        ]\n",
      " [ 2771.47176104  6867.47814109  4087.05009788 13726.        ]\n",
      " [ 5570.         13802.          8214.         27586.        ]]\n"
     ]
    }
   ],
   "source": [
    "chi2_valor,pval,dof,exp=chi2_contingency(tabla)\n",
    "print(f\"Chi-cuadrado: {chi2_valor}\")\n",
    "print(f\"Grados de libertad: {dof}\")\n",
    "print(f\"Valor p: {pval}\")\n",
    "print(\"Tabla de frecuencias esperadas:\")\n",
    "print(exp)"
   ]
  },
  {
   "cell_type": "code",
   "execution_count": 13,
   "id": "024ff680-112b-4bdc-982a-4c5667c1b2dc",
   "metadata": {},
   "outputs": [],
   "source": [
    "significancia =0.05\n",
    "p=1-significancia\n",
    "valor_critico=chi2.ppf(p,dof)\n",
    "\n"
   ]
  },
  {
   "cell_type": "code",
   "execution_count": 14,
   "id": "29ab26db-be9e-42e8-b659-3af898d7285d",
   "metadata": {},
   "outputs": [
    {
     "name": "stdout",
     "output_type": "stream",
     "text": [
      "No se rechaza la hipótesis nula:  Las mujeres mayores a 50 años tienen la misma probabilidad que los hombres de igual edad, de contraer un ataque cardiaco\n"
     ]
    }
   ],
   "source": [
    "if chi2_valor> valor_critico: \n",
    "    print ('Se rechaza la hipótesis nula:  Las mujeres mayores a 50 años tienen menos probabilidad que los hombres de igual edad, de contraer un ataque cardiaco')\n",
    "else: \n",
    "   print(\"No se rechaza la hipótesis nula:  Las mujeres mayores a 50 años tienen la misma probabilidad que los hombres de igual edad, de contraer un ataque cardiaco\")"
   ]
  },
  {
   "cell_type": "code",
   "execution_count": 17,
   "id": "09cbc3a0-700c-4fd1-83c1-799e5379dc95",
   "metadata": {},
   "outputs": [
    {
     "data": {
      "text/html": [
       "<div>\n",
       "<style scoped>\n",
       "    .dataframe tbody tr th:only-of-type {\n",
       "        vertical-align: middle;\n",
       "    }\n",
       "\n",
       "    .dataframe tbody tr th {\n",
       "        vertical-align: top;\n",
       "    }\n",
       "\n",
       "    .dataframe thead th {\n",
       "        text-align: right;\n",
       "    }\n",
       "</style>\n",
       "<table border=\"1\" class=\"dataframe\">\n",
       "  <thead>\n",
       "    <tr style=\"text-align: right;\">\n",
       "      <th>Heart_Attack_Risk</th>\n",
       "      <th>High</th>\n",
       "      <th>Low</th>\n",
       "      <th>Moderate</th>\n",
       "      <th>All</th>\n",
       "    </tr>\n",
       "    <tr>\n",
       "      <th>Nivel de actividad Fisica</th>\n",
       "      <th></th>\n",
       "      <th></th>\n",
       "      <th></th>\n",
       "      <th></th>\n",
       "    </tr>\n",
       "  </thead>\n",
       "  <tbody>\n",
       "    <tr>\n",
       "      <th>High</th>\n",
       "      <td>2000</td>\n",
       "      <td>4944</td>\n",
       "      <td>3001</td>\n",
       "      <td>9945</td>\n",
       "    </tr>\n",
       "    <tr>\n",
       "      <th>Low</th>\n",
       "      <td>4069</td>\n",
       "      <td>10025</td>\n",
       "      <td>5967</td>\n",
       "      <td>20061</td>\n",
       "    </tr>\n",
       "    <tr>\n",
       "      <th>Moderate</th>\n",
       "      <td>4003</td>\n",
       "      <td>10055</td>\n",
       "      <td>5936</td>\n",
       "      <td>19994</td>\n",
       "    </tr>\n",
       "    <tr>\n",
       "      <th>All</th>\n",
       "      <td>10072</td>\n",
       "      <td>25024</td>\n",
       "      <td>14904</td>\n",
       "      <td>50000</td>\n",
       "    </tr>\n",
       "  </tbody>\n",
       "</table>\n",
       "</div>"
      ],
      "text/plain": [
       "Heart_Attack_Risk           High    Low  Moderate    All\n",
       "Nivel de actividad Fisica                               \n",
       "High                        2000   4944      3001   9945\n",
       "Low                         4069  10025      5967  20061\n",
       "Moderate                    4003  10055      5936  19994\n",
       "All                        10072  25024     14904  50000"
      ]
     },
     "execution_count": 17,
     "metadata": {},
     "output_type": "execute_result"
    }
   ],
   "source": [
    "##HO:\"El bajo nivel de actividad física, aumenta el riesgo cardíaco\".\n",
    "##HI: \"El nivel de actividad física no está relacionado con el riesgo cardíaco.\"\n",
    "h2=pd.crosstab(df1['Nivel de actividad Fisica'], df1['Heart_Attack_Risk'],margins=True)\n",
    "h2"
   ]
  },
  {
   "cell_type": "code",
   "execution_count": 18,
   "id": "863fc47d-9044-47fa-9dd7-f62488ffd887",
   "metadata": {},
   "outputs": [
    {
     "name": "stdout",
     "output_type": "stream",
     "text": [
      "Chi-cuadrado: 1.4020138256660755\n",
      "Grados de libertad: 9\n",
      "Valor p: 0.997810501625266\n",
      "Tabla de frecuencias esperadas:\n",
      "[[ 2003.3208   4977.2736   2964.4056   9945.     ]\n",
      " [ 4041.08784 10040.12928  5979.78288 20061.     ]\n",
      " [ 4027.59136 10006.59712  5959.81152 19994.     ]\n",
      " [10072.      25024.      14904.      50000.     ]]\n"
     ]
    }
   ],
   "source": [
    "## la logica de la tabla de frecuencias seria multiplicar total de la primer fila y columna dividido el total de la muestra (ej 10072*9945/50000)\n",
    "chi2_s,pval,dof,exp=chi2_contingency(h2)\n",
    "print(f\"Chi-cuadrado: {chi2_s}\")\n",
    "print(f\"Grados de libertad: {dof}\")\n",
    "print(f\"Valor p: {pval}\")\n",
    "print(\"Tabla de frecuencias esperadas:\")\n",
    "print(exp)"
   ]
  },
  {
   "cell_type": "code",
   "execution_count": 20,
   "id": "5c30f7f1-07ed-4022-9601-111e155a3737",
   "metadata": {},
   "outputs": [],
   "source": [
    "significancia =0.05\n",
    "p=1-significancia\n",
    "valor_critico=chi2.ppf(p,dof)"
   ]
  },
  {
   "cell_type": "code",
   "execution_count": 21,
   "id": "d3fe1f07-f0d6-4e6d-a2ec-992d51ac8658",
   "metadata": {},
   "outputs": [
    {
     "name": "stdout",
     "output_type": "stream",
     "text": [
      "No se rechaza la hipótesis nula: El bajo nivel de actividad física, aumenta el riesgo cardíaco\n"
     ]
    }
   ],
   "source": [
    "if chi2_s> valor_critico: \n",
    "    print ('Se rechaza la hipótesis nula: El nivel de actividad física no está relacionado con el riesgo cardíaco')\n",
    "else: \n",
    "   print(\"No se rechaza la hipótesis nula: El bajo nivel de actividad física, aumenta el riesgo cardíaco\")"
   ]
  },
  {
   "cell_type": "code",
   "execution_count": null,
   "id": "adf07c35-2c96-433e-b04f-26c409f472bd",
   "metadata": {},
   "outputs": [],
   "source": []
  },
  {
   "cell_type": "code",
   "execution_count": 29,
   "id": "ee39aff2-a514-433c-97a9-e219f70f2eab",
   "metadata": {},
   "outputs": [
    {
     "data": {
      "text/html": [
       "<div>\n",
       "<style scoped>\n",
       "    .dataframe tbody tr th:only-of-type {\n",
       "        vertical-align: middle;\n",
       "    }\n",
       "\n",
       "    .dataframe tbody tr th {\n",
       "        vertical-align: top;\n",
       "    }\n",
       "\n",
       "    .dataframe thead th {\n",
       "        text-align: right;\n",
       "    }\n",
       "</style>\n",
       "<table border=\"1\" class=\"dataframe\">\n",
       "  <thead>\n",
       "    <tr style=\"text-align: right;\">\n",
       "      <th></th>\n",
       "      <th>Age</th>\n",
       "      <th>Heart_Rate</th>\n",
       "    </tr>\n",
       "  </thead>\n",
       "  <tbody>\n",
       "    <tr>\n",
       "      <th>Age</th>\n",
       "      <td>1.000000</td>\n",
       "      <td>-0.004448</td>\n",
       "    </tr>\n",
       "    <tr>\n",
       "      <th>Heart_Rate</th>\n",
       "      <td>-0.004448</td>\n",
       "      <td>1.000000</td>\n",
       "    </tr>\n",
       "  </tbody>\n",
       "</table>\n",
       "</div>"
      ],
      "text/plain": [
       "                 Age  Heart_Rate\n",
       "Age         1.000000   -0.004448\n",
       "Heart_Rate -0.004448    1.000000"
      ]
     },
     "execution_count": 29,
     "metadata": {},
     "output_type": "execute_result"
    }
   ],
   "source": [
    "##COEFICIENTE DE CORRELACIÓN DE PEARSON \n",
    "## QUE RELACIÓN EXISTE ENTRE LA EDAD Y FRECUENCIA CARDIACA \n",
    "df1[['Age','Heart_Rate']].corr(method='pearson')"
   ]
  },
  {
   "cell_type": "code",
   "execution_count": 31,
   "id": "3e0e681e-69c6-4211-8ad2-c4ed6c8c5a96",
   "metadata": {},
   "outputs": [],
   "source": [
    "##RTA: El nivel de relacion entre las variables es casi nulo, es decir no hay correlación lineal. \n"
   ]
  },
  {
   "cell_type": "code",
   "execution_count": 13,
   "id": "b8af9737-7f88-4c85-9672-8838dc516342",
   "metadata": {},
   "outputs": [],
   "source": [
    "## Aca se generó una nueva columna para reeplazar los valores originales por NO y SI\n",
    "df1['Diabetico']=df1['Diabetes'].map({0: 'NO', 1: 'SI'})"
   ]
  },
  {
   "cell_type": "code",
   "execution_count": 22,
   "id": "f51530d9-d959-4fc4-bbda-b9ec21899023",
   "metadata": {},
   "outputs": [
    {
     "data": {
      "text/html": [
       "<div>\n",
       "<style scoped>\n",
       "    .dataframe tbody tr th:only-of-type {\n",
       "        vertical-align: middle;\n",
       "    }\n",
       "\n",
       "    .dataframe tbody tr th {\n",
       "        vertical-align: top;\n",
       "    }\n",
       "\n",
       "    .dataframe thead th {\n",
       "        text-align: right;\n",
       "    }\n",
       "</style>\n",
       "<table border=\"1\" class=\"dataframe\">\n",
       "  <thead>\n",
       "    <tr style=\"text-align: right;\">\n",
       "      <th>Diagnóstico</th>\n",
       "      <th>Bajo Peso</th>\n",
       "      <th>Normal</th>\n",
       "      <th>Sobrepeso</th>\n",
       "      <th>Obesidad</th>\n",
       "      <th>All</th>\n",
       "    </tr>\n",
       "    <tr>\n",
       "      <th>Diabetico</th>\n",
       "      <th></th>\n",
       "      <th></th>\n",
       "      <th></th>\n",
       "      <th></th>\n",
       "      <th></th>\n",
       "    </tr>\n",
       "  </thead>\n",
       "  <tbody>\n",
       "    <tr>\n",
       "      <th>NO</th>\n",
       "      <td>4838</td>\n",
       "      <td>11178</td>\n",
       "      <td>8059</td>\n",
       "      <td>15983</td>\n",
       "      <td>40058</td>\n",
       "    </tr>\n",
       "    <tr>\n",
       "      <th>SI</th>\n",
       "      <td>1194</td>\n",
       "      <td>2752</td>\n",
       "      <td>2030</td>\n",
       "      <td>3966</td>\n",
       "      <td>9942</td>\n",
       "    </tr>\n",
       "    <tr>\n",
       "      <th>All</th>\n",
       "      <td>6032</td>\n",
       "      <td>13930</td>\n",
       "      <td>10089</td>\n",
       "      <td>19949</td>\n",
       "      <td>50000</td>\n",
       "    </tr>\n",
       "  </tbody>\n",
       "</table>\n",
       "</div>"
      ],
      "text/plain": [
       "Diagnóstico  Bajo Peso  Normal  Sobrepeso  Obesidad    All\n",
       "Diabetico                                                 \n",
       "NO                4838   11178       8059     15983  40058\n",
       "SI                1194    2752       2030      3966   9942\n",
       "All               6032   13930      10089     19949  50000"
      ]
     },
     "execution_count": 22,
     "metadata": {},
     "output_type": "execute_result"
    }
   ],
   "source": [
    "##HO: Las personas con obesidad son más propensas a desarrollar diabetes.  \n",
    "##HI:  No hay relación entre la obesidad y el desarrollo de diabetes \n",
    "h3=pd.crosstab (df1['Diabetico'],df1['Diagnóstico'],margins=True)\n",
    "h3"
   ]
  },
  {
   "cell_type": "code",
   "execution_count": 20,
   "id": "f80f8de2-f449-4f89-b80d-42e41a2af674",
   "metadata": {},
   "outputs": [
    {
     "name": "stdout",
     "output_type": "stream",
     "text": [
      "Chi-cuadrado: 0.5294587435934962\n",
      "Grados de libertad: 8\n",
      "Valor p: 0.9998342578888079\n",
      "Tabla de frecuencias esperadas:\n",
      "[[ 4832.59712 11160.1588   8082.90324 15982.34084 40058.     ]\n",
      " [ 1199.40288  2769.8412   2006.09676  3966.65916  9942.     ]\n",
      " [ 6032.      13930.      10089.      19949.      50000.     ]]\n"
     ]
    }
   ],
   "source": [
    "chi2_s,pval,dof,exp=chi2_contingency(h3)\n",
    "print(f\"Chi-cuadrado: {chi2_s}\")\n",
    "print(f\"Grados de libertad: {dof}\")\n",
    "print(f\"Valor p: {pval}\")\n",
    "print(\"Tabla de frecuencias esperadas:\")\n",
    "print(exp)"
   ]
  },
  {
   "cell_type": "code",
   "execution_count": 21,
   "id": "7bb9eeea-3a1b-4ff2-b9b1-3cb4ef85e265",
   "metadata": {},
   "outputs": [],
   "source": [
    "significancia =0.05\n",
    "p=1-significancia\n",
    "valor_critico=chi2.ppf(p,dof)"
   ]
  },
  {
   "cell_type": "code",
   "execution_count": 23,
   "id": "47592f67-05cf-4e6c-b537-582f81bc3ac6",
   "metadata": {},
   "outputs": [
    {
     "name": "stdout",
     "output_type": "stream",
     "text": [
      "No se rechaza la hipótesis nula: Las personas con obesidad son más propensas a desarrollar diabetes\n"
     ]
    }
   ],
   "source": [
    "if chi2_s> valor_critico: \n",
    "    print ('Se rechaza la hipótesis nula:  No hay relación entre la obesidad y el desarrollo de diabetes')\n",
    "else: \n",
    "   print(\"No se rechaza la hipótesis nula: Las personas con obesidad son más propensas a desarrollar diabetes\")"
   ]
  }
 ],
 "metadata": {
  "kernelspec": {
   "display_name": "Python 3 (ipykernel)",
   "language": "python",
   "name": "python3"
  },
  "language_info": {
   "codemirror_mode": {
    "name": "ipython",
    "version": 3
   },
   "file_extension": ".py",
   "mimetype": "text/x-python",
   "name": "python",
   "nbconvert_exporter": "python",
   "pygments_lexer": "ipython3",
   "version": "3.11.5"
  }
 },
 "nbformat": 4,
 "nbformat_minor": 5
}
